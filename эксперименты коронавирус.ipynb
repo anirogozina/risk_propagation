{
 "cells": [
  {
   "cell_type": "code",
   "execution_count": 4,
   "metadata": {},
   "outputs": [],
   "source": [
    "import numpy as np\n",
    "import pandas as pd\n",
    "import geohash\n",
    "PRECISION = 7"
   ]
  },
  {
   "cell_type": "code",
   "execution_count": 10,
   "metadata": {},
   "outputs": [],
   "source": [
    "path = \"~/Downloads/coronavirus_data/\""
   ]
  },
  {
   "cell_type": "code",
   "execution_count": 3,
   "metadata": {},
   "outputs": [],
   "source": [
    "geo = pd.read_csv(path + 'locations.csv')"
   ]
  },
  {
   "cell_type": "code",
   "execution_count": 4,
   "metadata": {},
   "outputs": [
    {
     "data": {
      "text/html": [
       "<div>\n",
       "<style scoped>\n",
       "    .dataframe tbody tr th:only-of-type {\n",
       "        vertical-align: middle;\n",
       "    }\n",
       "\n",
       "    .dataframe tbody tr th {\n",
       "        vertical-align: top;\n",
       "    }\n",
       "\n",
       "    .dataframe thead th {\n",
       "        text-align: right;\n",
       "    }\n",
       "</style>\n",
       "<table border=\"1\" class=\"dataframe\">\n",
       "  <thead>\n",
       "    <tr style=\"text-align: right;\">\n",
       "      <th></th>\n",
       "      <th>user_id</th>\n",
       "      <th>x</th>\n",
       "      <th>y</th>\n",
       "      <th>time</th>\n",
       "    </tr>\n",
       "  </thead>\n",
       "  <tbody>\n",
       "    <tr>\n",
       "      <th>0</th>\n",
       "      <td>c9025a55-9bfa-407a-93b1-d0bf14ba788e</td>\n",
       "      <td>2.620290</td>\n",
       "      <td>48.794475</td>\n",
       "      <td>1585654685</td>\n",
       "    </tr>\n",
       "    <tr>\n",
       "      <th>1</th>\n",
       "      <td>c9025a55-9bfa-407a-93b1-d0bf14ba788e</td>\n",
       "      <td>2.626324</td>\n",
       "      <td>48.802537</td>\n",
       "      <td>1585654647</td>\n",
       "    </tr>\n",
       "    <tr>\n",
       "      <th>2</th>\n",
       "      <td>30ce498e-9de5-43e4-b3d4-630b23a26cf1</td>\n",
       "      <td>2.346508</td>\n",
       "      <td>48.833758</td>\n",
       "      <td>1586124936</td>\n",
       "    </tr>\n",
       "    <tr>\n",
       "      <th>3</th>\n",
       "      <td>30ce498e-9de5-43e4-b3d4-630b23a26cf1</td>\n",
       "      <td>2.346492</td>\n",
       "      <td>48.833754</td>\n",
       "      <td>1586124968</td>\n",
       "    </tr>\n",
       "    <tr>\n",
       "      <th>4</th>\n",
       "      <td>81e1b50c-bda0-469d-bca6-7c6974a2d8f2</td>\n",
       "      <td>2.445168</td>\n",
       "      <td>48.955271</td>\n",
       "      <td>1586125526</td>\n",
       "    </tr>\n",
       "  </tbody>\n",
       "</table>\n",
       "</div>"
      ],
      "text/plain": [
       "                                user_id         x          y        time\n",
       "0  c9025a55-9bfa-407a-93b1-d0bf14ba788e  2.620290  48.794475  1585654685\n",
       "1  c9025a55-9bfa-407a-93b1-d0bf14ba788e  2.626324  48.802537  1585654647\n",
       "2  30ce498e-9de5-43e4-b3d4-630b23a26cf1  2.346508  48.833758  1586124936\n",
       "3  30ce498e-9de5-43e4-b3d4-630b23a26cf1  2.346492  48.833754  1586124968\n",
       "4  81e1b50c-bda0-469d-bca6-7c6974a2d8f2  2.445168  48.955271  1586125526"
      ]
     },
     "execution_count": 4,
     "metadata": {},
     "output_type": "execute_result"
    }
   ],
   "source": [
    "geo.head()"
   ]
  },
  {
   "cell_type": "code",
   "execution_count": 5,
   "metadata": {},
   "outputs": [],
   "source": [
    "targets =  pd.read_csv(path + 'infusr.csv')"
   ]
  },
  {
   "cell_type": "code",
   "execution_count": 6,
   "metadata": {},
   "outputs": [],
   "source": [
    "geo['geohash'] = geo.apply(lambda x: geohash.encode(x['x'], x['y'], PRECISION), axis =  1)"
   ]
  },
  {
   "cell_type": "code",
   "execution_count": 7,
   "metadata": {},
   "outputs": [],
   "source": [
    "geo['rounded_time'] = geo.apply(lambda x: int(x['time']/30), axis =  1)"
   ]
  },
  {
   "cell_type": "code",
   "execution_count": 8,
   "metadata": {},
   "outputs": [],
   "source": [
    "from math import radians"
   ]
  },
  {
   "cell_type": "code",
   "execution_count": 9,
   "metadata": {},
   "outputs": [],
   "source": [
    "def distance(lon1, lat1, lons, lats):\n",
    "    lon1, lat1 = map(radians, [lon1, lat1])\n",
    "    lons = np.radians(lons)\n",
    "    lats = np.radians(lats)\n",
    "    dlon = lons - lon1 \n",
    "    dlat = lats - lat1 \n",
    "    a = np.sin(dlat/2)**2 + np.cos(lat1) * np.cos(lats) * np.sin(dlon/2)**2\n",
    "    c = 2 * np.arcsin(np.sqrt(a)) \n",
    "    r = 6371000 \n",
    "    return c * r"
   ]
  },
  {
   "cell_type": "code",
   "execution_count": 10,
   "metadata": {},
   "outputs": [],
   "source": [
    "distances = distance(55.733970, 37.642443, [55.735093, 55.734112], [37.643866, 37.645307])"
   ]
  },
  {
   "cell_type": "code",
   "execution_count": 11,
   "metadata": {},
   "outputs": [
    {
     "data": {
      "text/plain": [
       "array([False,  True])"
      ]
     },
     "execution_count": 11,
     "metadata": {},
     "output_type": "execute_result"
    }
   ],
   "source": [
    "distances > 200"
   ]
  },
  {
   "cell_type": "code",
   "execution_count": 12,
   "metadata": {},
   "outputs": [
    {
     "data": {
      "text/plain": [
       "Index(['user_id', 'x', 'y', 'time', 'geohash', 'rounded_time'], dtype='object')"
      ]
     },
     "execution_count": 12,
     "metadata": {},
     "output_type": "execute_result"
    }
   ],
   "source": [
    "geo.columns"
   ]
  },
  {
   "cell_type": "code",
   "execution_count": 13,
   "metadata": {},
   "outputs": [],
   "source": [
    "result_dataset = []\n",
    "for key, rows in geo.groupby(['geohash','rounded_time']):\n",
    "    ids = []\n",
    "    lons = []\n",
    "    lats = []\n",
    "    is_finalised = False\n",
    "    for i, row in rows.iterrows():\n",
    "        ids.append(row['user_id'])\n",
    "        lons.append(row['x'])\n",
    "        lats.append(row['y'])\n",
    "    \n",
    "    ids = np.array(ids)\n",
    "    lons = np.array(lons)\n",
    "    lats = np.array(lats)\n",
    "    for i, row in rows.iterrows():\n",
    "        close_ids = distance(row['x'], row['y'], lons, lats) > 15\n",
    "        for id_, close in zip(ids, close_ids):\n",
    "            if close and id_ != row['user_id']:\n",
    "                result_dataset.append(\n",
    "                        {\n",
    "                            'time': row['rounded_time'], \n",
    "                            'user1': id_,\n",
    "                            'user2': row['user_id']\n",
    "                        }) "
   ]
  },
  {
   "cell_type": "code",
   "execution_count": 14,
   "metadata": {},
   "outputs": [],
   "source": [
    "dataset = pd.DataFrame(result_dataset)"
   ]
  },
  {
   "cell_type": "code",
   "execution_count": 16,
   "metadata": {},
   "outputs": [
    {
     "data": {
      "text/plain": [
       "(5222, 3)"
      ]
     },
     "execution_count": 16,
     "metadata": {},
     "output_type": "execute_result"
    }
   ],
   "source": [
    "dataset.shape"
   ]
  },
  {
   "cell_type": "code",
   "execution_count": 15,
   "metadata": {},
   "outputs": [],
   "source": [
    "dataset.to_csv('contacts_15meters_30sec.csv')"
   ]
  },
  {
   "cell_type": "code",
   "execution_count": 18,
   "metadata": {},
   "outputs": [
    {
     "data": {
      "text/html": [
       "<div>\n",
       "<style scoped>\n",
       "    .dataframe tbody tr th:only-of-type {\n",
       "        vertical-align: middle;\n",
       "    }\n",
       "\n",
       "    .dataframe tbody tr th {\n",
       "        vertical-align: top;\n",
       "    }\n",
       "\n",
       "    .dataframe thead th {\n",
       "        text-align: right;\n",
       "    }\n",
       "</style>\n",
       "<table border=\"1\" class=\"dataframe\">\n",
       "  <thead>\n",
       "    <tr style=\"text-align: right;\">\n",
       "      <th></th>\n",
       "      <th>time</th>\n",
       "      <th>user1</th>\n",
       "      <th>user2</th>\n",
       "    </tr>\n",
       "  </thead>\n",
       "  <tbody>\n",
       "    <tr>\n",
       "      <th>0</th>\n",
       "      <td>158669838</td>\n",
       "      <td>834ca4e5-a1ee-4418-bdd5-93a1b5855a78</td>\n",
       "      <td>68f6349f-80e7-41cf-b025-d9cf0dc8d544</td>\n",
       "    </tr>\n",
       "    <tr>\n",
       "      <th>1</th>\n",
       "      <td>158669838</td>\n",
       "      <td>68f6349f-80e7-41cf-b025-d9cf0dc8d544</td>\n",
       "      <td>834ca4e5-a1ee-4418-bdd5-93a1b5855a78</td>\n",
       "    </tr>\n",
       "    <tr>\n",
       "      <th>2</th>\n",
       "      <td>158669928</td>\n",
       "      <td>68f6349f-80e7-41cf-b025-d9cf0dc8d544</td>\n",
       "      <td>834ca4e5-a1ee-4418-bdd5-93a1b5855a78</td>\n",
       "    </tr>\n",
       "    <tr>\n",
       "      <th>3</th>\n",
       "      <td>158669928</td>\n",
       "      <td>834ca4e5-a1ee-4418-bdd5-93a1b5855a78</td>\n",
       "      <td>68f6349f-80e7-41cf-b025-d9cf0dc8d544</td>\n",
       "    </tr>\n",
       "    <tr>\n",
       "      <th>4</th>\n",
       "      <td>158669936</td>\n",
       "      <td>68f6349f-80e7-41cf-b025-d9cf0dc8d544</td>\n",
       "      <td>834ca4e5-a1ee-4418-bdd5-93a1b5855a78</td>\n",
       "    </tr>\n",
       "  </tbody>\n",
       "</table>\n",
       "</div>"
      ],
      "text/plain": [
       "        time                                 user1  \\\n",
       "0  158669838  834ca4e5-a1ee-4418-bdd5-93a1b5855a78   \n",
       "1  158669838  68f6349f-80e7-41cf-b025-d9cf0dc8d544   \n",
       "2  158669928  68f6349f-80e7-41cf-b025-d9cf0dc8d544   \n",
       "3  158669928  834ca4e5-a1ee-4418-bdd5-93a1b5855a78   \n",
       "4  158669936  68f6349f-80e7-41cf-b025-d9cf0dc8d544   \n",
       "\n",
       "                                  user2  \n",
       "0  68f6349f-80e7-41cf-b025-d9cf0dc8d544  \n",
       "1  834ca4e5-a1ee-4418-bdd5-93a1b5855a78  \n",
       "2  834ca4e5-a1ee-4418-bdd5-93a1b5855a78  \n",
       "3  68f6349f-80e7-41cf-b025-d9cf0dc8d544  \n",
       "4  834ca4e5-a1ee-4418-bdd5-93a1b5855a78  "
      ]
     },
     "execution_count": 18,
     "metadata": {},
     "output_type": "execute_result"
    }
   ],
   "source": [
    "dataset.head()"
   ]
  },
  {
   "cell_type": "code",
   "execution_count": 5,
   "metadata": {},
   "outputs": [],
   "source": [
    "contacts = pd.read_csv('contacts_15meters_30sec.csv')"
   ]
  },
  {
   "cell_type": "code",
   "execution_count": 6,
   "metadata": {},
   "outputs": [
    {
     "data": {
      "text/html": [
       "<div>\n",
       "<style scoped>\n",
       "    .dataframe tbody tr th:only-of-type {\n",
       "        vertical-align: middle;\n",
       "    }\n",
       "\n",
       "    .dataframe tbody tr th {\n",
       "        vertical-align: top;\n",
       "    }\n",
       "\n",
       "    .dataframe thead th {\n",
       "        text-align: right;\n",
       "    }\n",
       "</style>\n",
       "<table border=\"1\" class=\"dataframe\">\n",
       "  <thead>\n",
       "    <tr style=\"text-align: right;\">\n",
       "      <th></th>\n",
       "      <th></th>\n",
       "      <th>Unnamed: 0</th>\n",
       "      <th>time</th>\n",
       "    </tr>\n",
       "    <tr>\n",
       "      <th>user1</th>\n",
       "      <th>user2</th>\n",
       "      <th></th>\n",
       "      <th></th>\n",
       "    </tr>\n",
       "  </thead>\n",
       "  <tbody>\n",
       "    <tr>\n",
       "      <th>01f6b034-d48f-4753-a1f7-9f6f3517e518</th>\n",
       "      <th>fb03d776-327f-44e5-a69d-b25523fb01f9</th>\n",
       "      <td>1</td>\n",
       "      <td>1</td>\n",
       "    </tr>\n",
       "    <tr>\n",
       "      <th rowspan=\"2\" valign=\"top\">611e9476-8b23-4999-9f65-dd4346dc177f</th>\n",
       "      <th>0f4b6787-a0cd-4d76-b7d0-a38d1657f19d</th>\n",
       "      <td>1</td>\n",
       "      <td>1</td>\n",
       "    </tr>\n",
       "    <tr>\n",
       "      <th>3cf6bf57-c44c-406b-9a52-5cc0ef3a717f</th>\n",
       "      <td>1</td>\n",
       "      <td>1</td>\n",
       "    </tr>\n",
       "    <tr>\n",
       "      <th>6337ac00-309f-4f1c-83c3-51fedba647f9</th>\n",
       "      <th>f5c7d7d4-12e4-44d0-a24c-2821b6b638d1</th>\n",
       "      <td>1</td>\n",
       "      <td>1</td>\n",
       "    </tr>\n",
       "    <tr>\n",
       "      <th>63940e0a-5753-4c27-9d81-1a3166b629f7</th>\n",
       "      <th>ef3745c0-c0a7-4b6c-b81f-6b18987c089d</th>\n",
       "      <td>1</td>\n",
       "      <td>1</td>\n",
       "    </tr>\n",
       "    <tr>\n",
       "      <th>...</th>\n",
       "      <th>...</th>\n",
       "      <td>...</td>\n",
       "      <td>...</td>\n",
       "    </tr>\n",
       "    <tr>\n",
       "      <th>4c6c0f22-e558-40bb-8c79-2f46b0b3b745</th>\n",
       "      <th>6f63bdac-27fd-41a4-a3c9-551780c939d9</th>\n",
       "      <td>126</td>\n",
       "      <td>126</td>\n",
       "    </tr>\n",
       "    <tr>\n",
       "      <th>9cba94a8-f3c4-43bc-a019-21f23bf32e20</th>\n",
       "      <th>2f798c1a-1708-467b-a14d-761d31e3b10c</th>\n",
       "      <td>265</td>\n",
       "      <td>265</td>\n",
       "    </tr>\n",
       "    <tr>\n",
       "      <th>2f798c1a-1708-467b-a14d-761d31e3b10c</th>\n",
       "      <th>9cba94a8-f3c4-43bc-a019-21f23bf32e20</th>\n",
       "      <td>265</td>\n",
       "      <td>265</td>\n",
       "    </tr>\n",
       "    <tr>\n",
       "      <th>5638a9e2-9189-4446-9711-36b3f2621ec2</th>\n",
       "      <th>604e9431-7ac0-4d25-9f1b-300ffb30ac99</th>\n",
       "      <td>509</td>\n",
       "      <td>509</td>\n",
       "    </tr>\n",
       "    <tr>\n",
       "      <th>604e9431-7ac0-4d25-9f1b-300ffb30ac99</th>\n",
       "      <th>5638a9e2-9189-4446-9711-36b3f2621ec2</th>\n",
       "      <td>509</td>\n",
       "      <td>509</td>\n",
       "    </tr>\n",
       "  </tbody>\n",
       "</table>\n",
       "<p>344 rows × 2 columns</p>\n",
       "</div>"
      ],
      "text/plain": [
       "                                                                           Unnamed: 0  \\\n",
       "user1                                user2                                              \n",
       "01f6b034-d48f-4753-a1f7-9f6f3517e518 fb03d776-327f-44e5-a69d-b25523fb01f9           1   \n",
       "611e9476-8b23-4999-9f65-dd4346dc177f 0f4b6787-a0cd-4d76-b7d0-a38d1657f19d           1   \n",
       "                                     3cf6bf57-c44c-406b-9a52-5cc0ef3a717f           1   \n",
       "6337ac00-309f-4f1c-83c3-51fedba647f9 f5c7d7d4-12e4-44d0-a24c-2821b6b638d1           1   \n",
       "63940e0a-5753-4c27-9d81-1a3166b629f7 ef3745c0-c0a7-4b6c-b81f-6b18987c089d           1   \n",
       "...                                                                               ...   \n",
       "4c6c0f22-e558-40bb-8c79-2f46b0b3b745 6f63bdac-27fd-41a4-a3c9-551780c939d9         126   \n",
       "9cba94a8-f3c4-43bc-a019-21f23bf32e20 2f798c1a-1708-467b-a14d-761d31e3b10c         265   \n",
       "2f798c1a-1708-467b-a14d-761d31e3b10c 9cba94a8-f3c4-43bc-a019-21f23bf32e20         265   \n",
       "5638a9e2-9189-4446-9711-36b3f2621ec2 604e9431-7ac0-4d25-9f1b-300ffb30ac99         509   \n",
       "604e9431-7ac0-4d25-9f1b-300ffb30ac99 5638a9e2-9189-4446-9711-36b3f2621ec2         509   \n",
       "\n",
       "                                                                           time  \n",
       "user1                                user2                                       \n",
       "01f6b034-d48f-4753-a1f7-9f6f3517e518 fb03d776-327f-44e5-a69d-b25523fb01f9     1  \n",
       "611e9476-8b23-4999-9f65-dd4346dc177f 0f4b6787-a0cd-4d76-b7d0-a38d1657f19d     1  \n",
       "                                     3cf6bf57-c44c-406b-9a52-5cc0ef3a717f     1  \n",
       "6337ac00-309f-4f1c-83c3-51fedba647f9 f5c7d7d4-12e4-44d0-a24c-2821b6b638d1     1  \n",
       "63940e0a-5753-4c27-9d81-1a3166b629f7 ef3745c0-c0a7-4b6c-b81f-6b18987c089d     1  \n",
       "...                                                                         ...  \n",
       "4c6c0f22-e558-40bb-8c79-2f46b0b3b745 6f63bdac-27fd-41a4-a3c9-551780c939d9   126  \n",
       "9cba94a8-f3c4-43bc-a019-21f23bf32e20 2f798c1a-1708-467b-a14d-761d31e3b10c   265  \n",
       "2f798c1a-1708-467b-a14d-761d31e3b10c 9cba94a8-f3c4-43bc-a019-21f23bf32e20   265  \n",
       "5638a9e2-9189-4446-9711-36b3f2621ec2 604e9431-7ac0-4d25-9f1b-300ffb30ac99   509  \n",
       "604e9431-7ac0-4d25-9f1b-300ffb30ac99 5638a9e2-9189-4446-9711-36b3f2621ec2   509  \n",
       "\n",
       "[344 rows x 2 columns]"
      ]
     },
     "execution_count": 6,
     "metadata": {},
     "output_type": "execute_result"
    }
   ],
   "source": [
    "contacts.groupby(['user1', 'user2']).count().sort_values('time')"
   ]
  },
  {
   "cell_type": "code",
   "execution_count": 7,
   "metadata": {},
   "outputs": [
    {
     "ename": "NameError",
     "evalue": "name 'targets' is not defined",
     "output_type": "error",
     "traceback": [
      "\u001b[0;31m---------------------------------------------------------------------------\u001b[0m",
      "\u001b[0;31mNameError\u001b[0m                                 Traceback (most recent call last)",
      "\u001b[0;32m<ipython-input-7-3658090f28a0>\u001b[0m in \u001b[0;36m<module>\u001b[0;34m\u001b[0m\n\u001b[0;32m----> 1\u001b[0;31m \u001b[0mtargets\u001b[0m\u001b[0;34m.\u001b[0m\u001b[0mshape\u001b[0m\u001b[0;34m\u001b[0m\u001b[0;34m\u001b[0m\u001b[0m\n\u001b[0m",
      "\u001b[0;31mNameError\u001b[0m: name 'targets' is not defined"
     ]
    }
   ],
   "source": [
    "targets.shape"
   ]
  },
  {
   "cell_type": "code",
   "execution_count": 8,
   "metadata": {},
   "outputs": [
    {
     "ename": "NameError",
     "evalue": "name 'targets' is not defined",
     "output_type": "error",
     "traceback": [
      "\u001b[0;31m---------------------------------------------------------------------------\u001b[0m",
      "\u001b[0;31mNameError\u001b[0m                                 Traceback (most recent call last)",
      "\u001b[0;32m<ipython-input-8-e430dcbfd04b>\u001b[0m in \u001b[0;36m<module>\u001b[0;34m\u001b[0m\n\u001b[0;32m----> 1\u001b[0;31m \u001b[0muser_targets\u001b[0m \u001b[0;34m=\u001b[0m \u001b[0mset\u001b[0m\u001b[0;34m(\u001b[0m\u001b[0mtargets\u001b[0m\u001b[0;34m[\u001b[0m\u001b[0;34m'user_id'\u001b[0m\u001b[0;34m]\u001b[0m\u001b[0;34m.\u001b[0m\u001b[0mvalues\u001b[0m\u001b[0;34m)\u001b[0m\u001b[0;34m\u001b[0m\u001b[0;34m\u001b[0m\u001b[0m\n\u001b[0m\u001b[1;32m      2\u001b[0m \u001b[0mcontact_targets\u001b[0m \u001b[0;34m=\u001b[0m \u001b[0mset\u001b[0m\u001b[0;34m(\u001b[0m\u001b[0mcontacts\u001b[0m\u001b[0;34m[\u001b[0m\u001b[0;34m'user1'\u001b[0m\u001b[0;34m]\u001b[0m\u001b[0;34m.\u001b[0m\u001b[0mvalues\u001b[0m\u001b[0;34m)\u001b[0m\u001b[0;34m\u001b[0m\u001b[0;34m\u001b[0m\u001b[0m\n\u001b[1;32m      3\u001b[0m \u001b[0mlen\u001b[0m\u001b[0;34m(\u001b[0m\u001b[0mcontact_targets\u001b[0m \u001b[0;34m&\u001b[0m \u001b[0muser_targets\u001b[0m\u001b[0;34m)\u001b[0m\u001b[0;34m\u001b[0m\u001b[0;34m\u001b[0m\u001b[0m\n",
      "\u001b[0;31mNameError\u001b[0m: name 'targets' is not defined"
     ]
    }
   ],
   "source": [
    "user_targets = set(targets['user_id'].values)\n",
    "contact_targets = set(contacts['user1'].values)\n",
    "len(contact_targets & user_targets)"
   ]
  },
  {
   "cell_type": "markdown",
   "metadata": {},
   "source": [
    "### Данные о контактах:\n",
    "-  С 6 по 20 апреля\n",
    "- Много записей дублируются\n",
    "- Необходимо отбирать уникальные за какое-то время для подсчета"
   ]
  },
  {
   "cell_type": "markdown",
   "metadata": {},
   "source": [
    "### Данные о заражениях\n",
    "- С 6 по 23 апреля\n",
    "- Всего 650 случаев\n",
    "- Каждая запись уникальна(нет записаей одного человека несколько раз)"
   ]
  },
  {
   "cell_type": "markdown",
   "metadata": {},
   "source": [
    "Данные плохо пересекаются: среди контактных всего 70 зараженных"
   ]
  },
  {
   "cell_type": "markdown",
   "metadata": {},
   "source": [
    "### Сбор выборки для обучения:\n",
    "- Нужно сделать сетку(пусть в день)\n",
    "- Если в этот день есть запись о инфицировании - человек в этот момент инфицирован(он инфицирован и далее, но в MVP только в этот день)\n",
    "- Нужно собрать все контакты за предыдущую неделю\n",
    "- Так как у нас данные с 6го апреля, сетку делаем с 13 по 23"
   ]
  },
  {
   "cell_type": "code",
   "execution_count": 44,
   "metadata": {},
   "outputs": [],
   "source": [
    "targets =  pd.read_csv(path + 'infusr.csv')"
   ]
  },
  {
   "cell_type": "code",
   "execution_count": 12,
   "metadata": {},
   "outputs": [],
   "source": [
    "import datetime\n",
    "import ciso8601\n",
    "import time"
   ]
  },
  {
   "cell_type": "code",
   "execution_count": 13,
   "metadata": {},
   "outputs": [],
   "source": [
    "def get_timestamp(date_string):\n",
    "    ts = ciso8601.parse_datetime(date_string)\n",
    "    return int(time.mktime(ts.timetuple()))\n",
    "START_DATE = get_timestamp(\"2020-04-13T23:59:59.000000\")\n",
    "END_DATE = get_timestamp(\"2020-04-24T23:59:59.000000\")\n",
    "DAY_LENGTH = 86400\n",
    "# уникальные юзеры\n",
    "unique_users = pd.unique(contacts['user1'])\n",
    "# Формируем сетку\n",
    "time_grid = np.arange(START_DATE, END_DATE, DAY_LENGTH)"
   ]
  },
  {
   "cell_type": "code",
   "execution_count": 14,
   "metadata": {},
   "outputs": [],
   "source": [
    "START_DATE = get_timestamp(\"2020-04-13T23:59:59.000000\")\n",
    "END_DATE = get_timestamp(\"2020-04-24T23:59:59.000000\")\n",
    "DAY_LENGTH = 86400"
   ]
  },
  {
   "cell_type": "code",
   "execution_count": 15,
   "metadata": {},
   "outputs": [],
   "source": [
    "# уникальные юзеры\n",
    "unique_users = pd.unique(contacts['user1'])\n",
    "# Формируем сетку\n",
    "time_grid = np.arange(START_DATE, END_DATE, DAY_LENGTH)"
   ]
  },
  {
   "cell_type": "code",
   "execution_count": 16,
   "metadata": {},
   "outputs": [],
   "source": [
    "def add_to_learning_grid(contacts_dict, time, user1, user2):\n",
    "    key = user1 + '/' + str(time)\n",
    "    if key not in contacts_dict.keys():\n",
    "        contacts_dict[key] = set()\n",
    "    contacts_dict[key].add(user2)"
   ]
  },
  {
   "cell_type": "code",
   "execution_count": 40,
   "metadata": {},
   "outputs": [],
   "source": [
    "contacts_dict = {}\n",
    "for i, row in contacts.iterrows():\n",
    "    time_hash = row['time']\n",
    "    time = time_hash*30\n",
    "    user1 = row['user1']\n",
    "    user2 = row['user2']\n",
    "    close_time_elems = time_grid[((time_grid < time + 7*DAY_LENGTH) & (time_grid > time))]\n",
    "    for time_elem in close_time_elems:\n",
    "        add_to_learning_grid(contacts_dict, time_elem, user1, user2)\n",
    "        "
   ]
  },
  {
   "cell_type": "code",
   "execution_count": 41,
   "metadata": {},
   "outputs": [],
   "source": [
    "learning_list = []\n",
    "for time_step in time_grid:\n",
    "    for user in unique_users:\n",
    "        dict_elem = {'user_id': user, 'grid_time': time_step}\n",
    "        key = user + '/' + str(time_step)\n",
    "        if key in contacts_dict.keys():\n",
    "            dict_elem['contacts_num'] = len(contacts_dict[key])\n",
    "        else:\n",
    "            dict_elem['contacts_num']  = 0\n",
    "        learning_list.append(dict_elem)"
   ]
  },
  {
   "cell_type": "code",
   "execution_count": 42,
   "metadata": {},
   "outputs": [],
   "source": [
    "learning_data = pd.DataFrame(learning_list)"
   ]
  },
  {
   "cell_type": "code",
   "execution_count": 45,
   "metadata": {},
   "outputs": [],
   "source": [
    "learning_data = learning_data.join(targets.set_index('user_id'), on='user_id', how='left')"
   ]
  },
  {
   "cell_type": "code",
   "execution_count": 46,
   "metadata": {},
   "outputs": [
    {
     "data": {
      "text/plain": [
       "(2750, 4)"
      ]
     },
     "execution_count": 46,
     "metadata": {},
     "output_type": "execute_result"
    }
   ],
   "source": [
    "learning_data.shape"
   ]
  },
  {
   "cell_type": "code",
   "execution_count": 47,
   "metadata": {},
   "outputs": [],
   "source": [
    "def calc_target(inf_time, grid_time):\n",
    "    if inf_time == inf_time:\n",
    "        if 0 <= grid_time - inf_time <= 5*DAY_LENGTH:\n",
    "            return 1\n",
    "        if 0 < inf_time - grid_time <= 3*DAY_LENGTH:\n",
    "            return 1\n",
    "    return 0"
   ]
  },
  {
   "cell_type": "code",
   "execution_count": 48,
   "metadata": {},
   "outputs": [],
   "source": [
    "learning_data['target'] = learning_data.apply(\n",
    "    lambda x: calc_target(x['time'], x['grid_time']),  axis=1\n",
    ")"
   ]
  },
  {
   "cell_type": "code",
   "execution_count": 49,
   "metadata": {},
   "outputs": [],
   "source": [
    "import collections"
   ]
  },
  {
   "cell_type": "code",
   "execution_count": 50,
   "metadata": {},
   "outputs": [
    {
     "data": {
      "text/plain": [
       "Counter({1: 0.19527272727272726,\n",
       "         3: 0.944,\n",
       "         2: 0.7927272727272727,\n",
       "         5: 0.9854545454545455,\n",
       "         4: 0.9818181818181818,\n",
       "         0: 0.0,\n",
       "         7: 0.9934545454545455,\n",
       "         8: 0.9974545454545455,\n",
       "         6: 0.9934545454545455})"
      ]
     },
     "execution_count": 50,
     "metadata": {},
     "output_type": "execute_result"
    }
   ],
   "source": [
    "frequency"
   ]
  },
  {
   "cell_type": "code",
   "execution_count": 51,
   "metadata": {},
   "outputs": [],
   "source": [
    "frequency = collections.Counter(learning_data['contacts_num'])\n",
    "frequency[0] = learning_data[learning_data['contacts_num'] == 0].shape[0]\n",
    "count = 0\n",
    "for i in range(9):\n",
    "    step = frequency[i]\n",
    "    frequency[i] = count\n",
    "    count += step\n",
    "for i in range(9):\n",
    "    if count == 0:\n",
    "        frequency[i] = 0\n",
    "    else:\n",
    "        frequency[i] /= count"
   ]
  },
  {
   "cell_type": "code",
   "execution_count": 52,
   "metadata": {},
   "outputs": [],
   "source": [
    "learning_data['predictions'] = learning_data.apply(\n",
    "    lambda x: frequency[x['contacts_num']],  axis=1\n",
    ")"
   ]
  },
  {
   "cell_type": "code",
   "execution_count": 53,
   "metadata": {},
   "outputs": [
    {
     "data": {
      "text/html": [
       "<div>\n",
       "<style scoped>\n",
       "    .dataframe tbody tr th:only-of-type {\n",
       "        vertical-align: middle;\n",
       "    }\n",
       "\n",
       "    .dataframe tbody tr th {\n",
       "        vertical-align: top;\n",
       "    }\n",
       "\n",
       "    .dataframe thead th {\n",
       "        text-align: right;\n",
       "    }\n",
       "</style>\n",
       "<table border=\"1\" class=\"dataframe\">\n",
       "  <thead>\n",
       "    <tr style=\"text-align: right;\">\n",
       "      <th></th>\n",
       "      <th>user_id</th>\n",
       "      <th>grid_time</th>\n",
       "      <th>contacts_num</th>\n",
       "      <th>time</th>\n",
       "      <th>target</th>\n",
       "      <th>predictions</th>\n",
       "    </tr>\n",
       "  </thead>\n",
       "  <tbody>\n",
       "    <tr>\n",
       "      <th>0</th>\n",
       "      <td>68f6349f-80e7-41cf-b025-d9cf0dc8d544</td>\n",
       "      <td>1586811599</td>\n",
       "      <td>1</td>\n",
       "      <td>NaN</td>\n",
       "      <td>0</td>\n",
       "      <td>0.450545</td>\n",
       "    </tr>\n",
       "    <tr>\n",
       "      <th>1</th>\n",
       "      <td>834ca4e5-a1ee-4418-bdd5-93a1b5855a78</td>\n",
       "      <td>1586811599</td>\n",
       "      <td>1</td>\n",
       "      <td>1.586676e+09</td>\n",
       "      <td>1</td>\n",
       "      <td>0.450545</td>\n",
       "    </tr>\n",
       "    <tr>\n",
       "      <th>2</th>\n",
       "      <td>50e0214b-1a2d-472b-82a8-30af93388f42</td>\n",
       "      <td>1586811599</td>\n",
       "      <td>0</td>\n",
       "      <td>NaN</td>\n",
       "      <td>0</td>\n",
       "      <td>0.000000</td>\n",
       "    </tr>\n",
       "    <tr>\n",
       "      <th>3</th>\n",
       "      <td>9a3e6b20-e639-404b-aead-a0ed1a3b0a00</td>\n",
       "      <td>1586811599</td>\n",
       "      <td>0</td>\n",
       "      <td>NaN</td>\n",
       "      <td>0</td>\n",
       "      <td>0.000000</td>\n",
       "    </tr>\n",
       "    <tr>\n",
       "      <th>4</th>\n",
       "      <td>dddb261a-9aef-4b09-af19-a99be7da261e</td>\n",
       "      <td>1586811599</td>\n",
       "      <td>0</td>\n",
       "      <td>NaN</td>\n",
       "      <td>0</td>\n",
       "      <td>0.000000</td>\n",
       "    </tr>\n",
       "    <tr>\n",
       "      <th>...</th>\n",
       "      <td>...</td>\n",
       "      <td>...</td>\n",
       "      <td>...</td>\n",
       "      <td>...</td>\n",
       "      <td>...</td>\n",
       "      <td>...</td>\n",
       "    </tr>\n",
       "    <tr>\n",
       "      <th>2745</th>\n",
       "      <td>2a5dab83-ed1d-406d-b060-e763ff80b258</td>\n",
       "      <td>1587675599</td>\n",
       "      <td>0</td>\n",
       "      <td>NaN</td>\n",
       "      <td>0</td>\n",
       "      <td>0.000000</td>\n",
       "    </tr>\n",
       "    <tr>\n",
       "      <th>2746</th>\n",
       "      <td>2899c279-a001-4d33-b101-3288efda5d1b</td>\n",
       "      <td>1587675599</td>\n",
       "      <td>0</td>\n",
       "      <td>NaN</td>\n",
       "      <td>0</td>\n",
       "      <td>0.000000</td>\n",
       "    </tr>\n",
       "    <tr>\n",
       "      <th>2747</th>\n",
       "      <td>4de25ebe-a9d5-4734-bed4-338d2439ad46</td>\n",
       "      <td>1587675599</td>\n",
       "      <td>2</td>\n",
       "      <td>NaN</td>\n",
       "      <td>0</td>\n",
       "      <td>0.885455</td>\n",
       "    </tr>\n",
       "    <tr>\n",
       "      <th>2748</th>\n",
       "      <td>a52868e5-617e-4364-8322-f80c534ecc18</td>\n",
       "      <td>1587675599</td>\n",
       "      <td>1</td>\n",
       "      <td>NaN</td>\n",
       "      <td>0</td>\n",
       "      <td>0.450545</td>\n",
       "    </tr>\n",
       "    <tr>\n",
       "      <th>2749</th>\n",
       "      <td>585eefe1-33da-4310-8240-0f84a49c10f5</td>\n",
       "      <td>1587675599</td>\n",
       "      <td>1</td>\n",
       "      <td>1.586968e+09</td>\n",
       "      <td>0</td>\n",
       "      <td>0.450545</td>\n",
       "    </tr>\n",
       "  </tbody>\n",
       "</table>\n",
       "<p>2750 rows × 6 columns</p>\n",
       "</div>"
      ],
      "text/plain": [
       "                                   user_id   grid_time  contacts_num  \\\n",
       "0     68f6349f-80e7-41cf-b025-d9cf0dc8d544  1586811599             1   \n",
       "1     834ca4e5-a1ee-4418-bdd5-93a1b5855a78  1586811599             1   \n",
       "2     50e0214b-1a2d-472b-82a8-30af93388f42  1586811599             0   \n",
       "3     9a3e6b20-e639-404b-aead-a0ed1a3b0a00  1586811599             0   \n",
       "4     dddb261a-9aef-4b09-af19-a99be7da261e  1586811599             0   \n",
       "...                                    ...         ...           ...   \n",
       "2745  2a5dab83-ed1d-406d-b060-e763ff80b258  1587675599             0   \n",
       "2746  2899c279-a001-4d33-b101-3288efda5d1b  1587675599             0   \n",
       "2747  4de25ebe-a9d5-4734-bed4-338d2439ad46  1587675599             2   \n",
       "2748  a52868e5-617e-4364-8322-f80c534ecc18  1587675599             1   \n",
       "2749  585eefe1-33da-4310-8240-0f84a49c10f5  1587675599             1   \n",
       "\n",
       "              time  target  predictions  \n",
       "0              NaN       0     0.450545  \n",
       "1     1.586676e+09       1     0.450545  \n",
       "2              NaN       0     0.000000  \n",
       "3              NaN       0     0.000000  \n",
       "4              NaN       0     0.000000  \n",
       "...            ...     ...          ...  \n",
       "2745           NaN       0     0.000000  \n",
       "2746           NaN       0     0.000000  \n",
       "2747           NaN       0     0.885455  \n",
       "2748           NaN       0     0.450545  \n",
       "2749  1.586968e+09       0     0.450545  \n",
       "\n",
       "[2750 rows x 6 columns]"
      ]
     },
     "execution_count": 53,
     "metadata": {},
     "output_type": "execute_result"
    }
   ],
   "source": [
    "learning_data"
   ]
  },
  {
   "cell_type": "markdown",
   "metadata": {},
   "source": [
    "### Получили результаты с предсказаниями"
   ]
  },
  {
   "cell_type": "code",
   "execution_count": 54,
   "metadata": {},
   "outputs": [],
   "source": [
    "targets = learning_data['target'].values\n",
    "predictions = learning_data['predictions'].values"
   ]
  },
  {
   "cell_type": "code",
   "execution_count": 55,
   "metadata": {},
   "outputs": [
    {
     "name": "stdout",
     "output_type": "stream",
     "text": [
      "treshold: 0.0 precision: 0.1502316346790205 recall: 1.0\n",
      "treshold: 0.05 precision: 0.1502316346790205 recall: 0.6394366197183099\n",
      "treshold: 0.1 precision: 0.1502316346790205 recall: 0.6394366197183099\n",
      "treshold: 0.15000000000000002 precision: 0.1502316346790205 recall: 0.6394366197183099\n",
      "treshold: 0.2 precision: 0.1502316346790205 recall: 0.6394366197183099\n",
      "treshold: 0.25 precision: 0.1502316346790205 recall: 0.6394366197183099\n",
      "treshold: 0.30000000000000004 precision: 0.1502316346790205 recall: 0.6394366197183099\n",
      "treshold: 0.35000000000000003 precision: 0.1502316346790205 recall: 0.6394366197183099\n",
      "treshold: 0.4 precision: 0.1502316346790205 recall: 0.6394366197183099\n",
      "treshold: 0.45 precision: 0.1502316346790205 recall: 0.6394366197183099\n",
      "treshold: 0.5 precision: 0.19682539682539682 recall: 0.17464788732394365\n",
      "treshold: 0.55 precision: 0.19682539682539682 recall: 0.17464788732394365\n",
      "treshold: 0.6000000000000001 precision: 0.19682539682539682 recall: 0.17464788732394365\n",
      "treshold: 0.65 precision: 0.19682539682539682 recall: 0.17464788732394365\n",
      "treshold: 0.7000000000000001 precision: 0.19682539682539682 recall: 0.17464788732394365\n",
      "treshold: 0.75 precision: 0.19682539682539682 recall: 0.17464788732394365\n",
      "treshold: 0.8 precision: 0.19682539682539682 recall: 0.17464788732394365\n",
      "treshold: 0.8500000000000001 precision: 0.19682539682539682 recall: 0.17464788732394365\n",
      "treshold: 0.9 precision: 0.24358974358974358 recall: 0.05352112676056338\n",
      "treshold: 0.9500000000000001 precision: 0.24358974358974358 recall: 0.05352112676056338\n"
     ]
    }
   ],
   "source": [
    "for treshold in np.arange(0, 1, 0.05):\n",
    "    tp = ((targets == 1) & (predictions > treshold )).sum()\n",
    "    fp = ((targets == 0) & (predictions > treshold)).sum()\n",
    "    tn = ((targets == 0) & (predictions < treshold )).sum()\n",
    "    fn = ((targets == 1) & (predictions < treshold )).sum()\n",
    "    print('treshold:', treshold, 'precision:',  tp/(tp + fp), 'recall:',  tp/(tp + fn))"
   ]
  },
  {
   "cell_type": "code",
   "execution_count": 29,
   "metadata": {},
   "outputs": [
    {
     "name": "stdout",
     "output_type": "stream",
     "text": [
      "treshold: 0.0 precision: 0.157704473565296 recall: 1.0\n",
      "treshold: 0.05 precision: 0.157704473565296 recall: 0.9830985915492958\n",
      "treshold: 0.1 precision: 0.157704473565296 recall: 0.9830985915492958\n",
      "treshold: 0.15000000000000002 precision: 0.157704473565296 recall: 0.9830985915492958\n",
      "treshold: 0.2 precision: 0.18596491228070175 recall: 0.29859154929577464\n",
      "treshold: 0.25 precision: 0.18596491228070175 recall: 0.29859154929577464\n",
      "treshold: 0.30000000000000004 precision: 0.18596491228070175 recall: 0.29859154929577464\n",
      "treshold: 0.35000000000000003 precision: 0.18596491228070175 recall: 0.29859154929577464\n",
      "treshold: 0.4 precision: 0.18596491228070175 recall: 0.29859154929577464\n",
      "treshold: 0.45 precision: 0.18596491228070175 recall: 0.29859154929577464\n",
      "treshold: 0.5 precision: 0.18596491228070175 recall: 0.29859154929577464\n",
      "treshold: 0.55 precision: 0.18596491228070175 recall: 0.29859154929577464\n",
      "treshold: 0.6000000000000001 precision: 0.18596491228070175 recall: 0.29859154929577464\n",
      "treshold: 0.65 precision: 0.18596491228070175 recall: 0.29859154929577464\n",
      "treshold: 0.7000000000000001 precision: 0.18596491228070175 recall: 0.29859154929577464\n",
      "treshold: 0.75 precision: 0.18596491228070175 recall: 0.29859154929577464\n",
      "treshold: 0.8 precision: 0.19480519480519481 recall: 0.08450704225352113\n",
      "treshold: 0.8500000000000001 precision: 0.19480519480519481 recall: 0.08450704225352113\n",
      "treshold: 0.9 precision: 0.19480519480519481 recall: 0.08450704225352113\n",
      "treshold: 0.9500000000000001 precision: 0.22 recall: 0.030985915492957747\n"
     ]
    }
   ],
   "source": [
    "for treshold in np.arange(0, 1, 0.05):\n",
    "    tp = ((targets == 1) & (predictions > treshold )).sum()\n",
    "    fp = ((targets == 0) & (predictions > treshold)).sum()\n",
    "    tn = ((targets == 0) & (predictions < treshold )).sum()\n",
    "    fn = ((targets == 1) & (predictions < treshold )).sum()\n",
    "    print('treshold:', treshold, 'precision:',  tp/(tp + fp), 'recall:',  tp/(tp + fn))"
   ]
  },
  {
   "cell_type": "code",
   "execution_count": 56,
   "metadata": {},
   "outputs": [],
   "source": [
    "learning_data_new = learning_data[\n",
    "    ((learning_data['contacts_num'] > 0) | (learning_data['target'] == 1))]\n",
    "targets = learning_data_new['target'].values\n",
    "predictions = learning_data_new['predictions'].values"
   ]
  },
  {
   "cell_type": "code",
   "execution_count": 78,
   "metadata": {},
   "outputs": [],
   "source": [
    "targets = pd.read_csv('coronavirus/y_test.csv')\n",
    "features = pd.read_csv('coronavirus/x_test.csv')"
   ]
  },
  {
   "cell_type": "code",
   "execution_count": 79,
   "metadata": {},
   "outputs": [],
   "source": [
    "features['predictions'] = features.apply(\n",
    "    lambda x: frequency[x['contacts_num']],  axis=1\n",
    ")"
   ]
  },
  {
   "cell_type": "code",
   "execution_count": 81,
   "metadata": {},
   "outputs": [],
   "source": [
    "targets = targets['target'].values\n",
    "predictions = features['predictions'].values"
   ]
  },
  {
   "cell_type": "code",
   "execution_count": 76,
   "metadata": {},
   "outputs": [
    {
     "data": {
      "text/plain": [
       "(825,)"
      ]
     },
     "execution_count": 76,
     "metadata": {},
     "output_type": "execute_result"
    }
   ],
   "source": [
    "features['predictions'].values.shape"
   ]
  },
  {
   "cell_type": "code",
   "execution_count": 82,
   "metadata": {},
   "outputs": [
    {
     "name": "stdout",
     "output_type": "stream",
     "text": [
      "treshold: 0.0 precision: 0.125 recall: 1.0\n",
      "treshold: 0.05 precision: 0.125 recall: 0.6333333333333333\n",
      "treshold: 0.1 precision: 0.125 recall: 0.6333333333333333\n",
      "treshold: 0.15000000000000002 precision: 0.125 recall: 0.6333333333333333\n",
      "treshold: 0.2 precision: 0.125 recall: 0.6333333333333333\n",
      "treshold: 0.25 precision: 0.125 recall: 0.6333333333333333\n",
      "treshold: 0.30000000000000004 precision: 0.125 recall: 0.6333333333333333\n",
      "treshold: 0.35000000000000003 precision: 0.125 recall: 0.6333333333333333\n",
      "treshold: 0.4 precision: 0.125 recall: 0.6333333333333333\n",
      "treshold: 0.45 precision: 0.125 recall: 0.6333333333333333\n",
      "treshold: 0.5 precision: 0.15789473684210525 recall: 0.16666666666666666\n",
      "treshold: 0.55 precision: 0.15789473684210525 recall: 0.16666666666666666\n",
      "treshold: 0.6000000000000001 precision: 0.15789473684210525 recall: 0.16666666666666666\n",
      "treshold: 0.65 precision: 0.15789473684210525 recall: 0.16666666666666666\n",
      "treshold: 0.7000000000000001 precision: 0.15789473684210525 recall: 0.16666666666666666\n",
      "treshold: 0.75 precision: 0.15789473684210525 recall: 0.16666666666666666\n",
      "treshold: 0.8 precision: 0.15789473684210525 recall: 0.16666666666666666\n",
      "treshold: 0.8500000000000001 precision: 0.15789473684210525 recall: 0.16666666666666666\n",
      "treshold: 0.9 precision: 0.24 recall: 0.06666666666666667\n",
      "treshold: 0.9500000000000001 precision: 0.24 recall: 0.06666666666666667\n"
     ]
    }
   ],
   "source": [
    "for treshold in np.arange(0, 1, 0.05):\n",
    "    tp = ((targets == 1) & (predictions > treshold )).sum()\n",
    "    fp = ((targets == 0) & (predictions > treshold)).sum()\n",
    "    tn = ((targets == 0) & (predictions < treshold )).sum()\n",
    "    fn = ((targets == 1) & (predictions < treshold )).sum()\n",
    "    print('treshold:', treshold, 'precision:',  tp/(tp + fp), 'recall:',  tp/(tp + fn))"
   ]
  },
  {
   "cell_type": "markdown",
   "metadata": {},
   "source": [
    "### Лучший порог 0.75\n",
    "treshold: 0.75 precision: 0.18596491228070175 recall: 0.29859154929577464"
   ]
  },
  {
   "cell_type": "code",
   "execution_count": 343,
   "metadata": {},
   "outputs": [
    {
     "name": "stdout",
     "output_type": "stream",
     "text": [
      "106 464 1931 249\n"
     ]
    }
   ],
   "source": [
    "treshold = 0.75\n",
    "tp = ((targets == 1) & (predictions > treshold )).sum()\n",
    "fp = ((targets == 0) & (predictions > treshold)).sum()\n",
    "tn = ((targets == 0) & (predictions < treshold )).sum()\n",
    "fn = ((targets == 1) & (predictions < treshold )).sum()\n",
    "print(tp, fp, tn, fn)"
   ]
  }
 ],
 "metadata": {
  "kernelspec": {
   "display_name": "gitlab",
   "language": "python",
   "name": "gitlab"
  },
  "language_info": {
   "codemirror_mode": {
    "name": "ipython",
    "version": 3
   },
   "file_extension": ".py",
   "mimetype": "text/x-python",
   "name": "python",
   "nbconvert_exporter": "python",
   "pygments_lexer": "ipython3",
   "version": "3.7.4"
  }
 },
 "nbformat": 4,
 "nbformat_minor": 2
}
